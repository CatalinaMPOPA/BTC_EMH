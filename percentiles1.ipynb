{
 "cells": [
  {
   "cell_type": "code",
   "execution_count": 1,
   "source": [
    "import numpy as np\n",
    "import pandas as pd\n",
    "from scipy import stats\n",
    "import os\n",
    "from sklearn import preprocessing\n",
    "from sklearn.preprocessing import StandardScaler\n",
    "import seaborn as sns\n",
    "from statsmodels.graphics.tsaplots import plot_acf\n",
    "import matplotlib.pyplot as plt\n",
    "import statsmodels.api as stm\n",
    "import statsmodels\n",
    "import arch.data.frenchdata\n",
    "import matplotlib.pyplot as plt\n",
    "from arch.unitroot import VarianceRatio\n",
    "from hurst import compute_Hc, random_walk\n",
    "import warnings\n",
    "warnings.filterwarnings(\"ignore\")"
   ],
   "outputs": [],
   "metadata": {}
  },
  {
   "cell_type": "code",
   "execution_count": null,
   "source": [
    "%load_ext rpy2.ipython\n",
    "%R install.packages(\"randtests\")\n",
    "%R library(randtests)"
   ],
   "outputs": [],
   "metadata": {}
  },
  {
   "cell_type": "markdown",
   "source": [
    "## Tests used for testing EMH"
   ],
   "metadata": {}
  },
  {
   "cell_type": "code",
   "execution_count": 3,
   "source": [
    "def lung_box(returns):\n",
    "   return stm.stats.diagnostic.acorr_ljungbox(returns, lags=[10], boxpierce=False)\n",
    "\n",
    "def runs_test(returns):\n",
    "  ret= pd.Series.to_numpy(returns)\n",
    "  return statsmodels.sandbox.stats.runs.runstest_1samp(ret, cutoff='median', correction= True)\n",
    "\n",
    "def hurst_exponent(returns):\n",
    "  return compute_Hc(returns, kind= 'random_walk', simplified=True)\n",
    "\n",
    "def bds(returns):\n",
    "  return statsmodels.tsa.stattools.bds(returns, max_dim=2, epsilon=None, distance=1.5)"
   ],
   "outputs": [],
   "metadata": {}
  },
  {
   "cell_type": "markdown",
   "source": [
    "## P-value calculation using a rolling window"
   ],
   "metadata": {}
  },
  {
   "cell_type": "code",
   "execution_count": 4,
   "source": [
    "def RollingWindows(all_returns, rollingWindow):\n",
    "  df = pd.DataFrame()\n",
    "  for i in range (rollingWindow,len(all_returns)):\n",
    "      returns = all_returns[i-rollingWindow:i]\n",
    "      pvalue = []\n",
    "      pvalue.append((lung_box(returns)[1]).item(0))\n",
    "      pvalue.append(runs_test(returns)[1])\n",
    "      pvalue.append(VarianceRatio(returns, 100).pvalue)\n",
    "      pvalue.append((bds(returns)[1]).item(0))\n",
    "      pvalue.append(hurst_exponent(returns)[0])\n",
    "      %Rpush returns\n",
    "      %R bartels = bartels.rank.test(returns, alternative= 'two.sided', pvalue='normal')\n",
    "      bartels = %Rget bartels\n",
    "      bartelsValue = bartels[5]\n",
    "      pvalue.append(bartelsValue[0])\n",
    "      x = pd.Series(pvalue)\n",
    "      df = df.append(x,ignore_index=True)\n",
    "  return df"
   ],
   "outputs": [],
   "metadata": {}
  },
  {
   "cell_type": "markdown",
   "source": [
    "## Crypto efficiency testing function"
   ],
   "metadata": {}
  },
  {
   "cell_type": "code",
   "execution_count": 5,
   "source": [
    "def CryptoEfficiency2(df,rollingWindow_size,excelName):\n",
    "  writer = pd.ExcelWriter(excelName,engine='xlsxwriter')\n",
    "  for i in range (0,len(df.sheet_names)):\n",
    "    df_sheet = df.parse(i)\n",
    "    all_returns = np.log(df_sheet['Close']).diff().dropna()\n",
    "    dff = RollingWindows(all_returns,rollingWindow_size)\n",
    "    dff = dff.rename(columns = {0:'Ljung-Box',1:'RunsTest', 2:'VarianceRatio', 3: 'BDSTest', 4:'HurstExponent', 5:'BartelsTest'})\n",
    "    dff.to_excel(writer,sheet_name=str(df.sheet_names[i]), index= False)\n",
    "    print(df.sheet_names[i],' processed ', i+1,'/',len(df.sheet_names))\n",
    "  writer.save()\n",
    "  print('Saved as: ',excelName)"
   ],
   "outputs": [],
   "metadata": {}
  },
  {
   "cell_type": "code",
   "execution_count": null,
   "source": [
    "def RollingWindows2(all_returns, rollingWindow):\n",
    "  df = pd.DataFrame()\n",
    "  for i in range (rollingWindow,len(all_returns)):\n",
    "      returns = all_returns[i-rollingWindow:i]\n",
    "      pvalue = []\n",
    "      pvalue.append((lung_box(returns)[1]).item(0))\n",
    "      pvalue.append(runs_test(returns)[1])\n",
    "      pvalue.append(VarianceRatio(returns, 100).pvalue)\n",
    "      pvalue.append((bds(returns)[1]).item(0))\n",
    "      pvalue.append(hurst_exponent(returns)[0])\n",
    "      %Rpush returns\n",
    "      %R bartels = bartels.rank.test(returns, alternative= 'two.sided', pvalue='normal')\n",
    "      bartels = %Rget bartels\n",
    "      bartelsValue = bartels[5]\n",
    "      pvalue.append(bartelsValue[0])\n",
    "      x = pd.Series(pvalue)\n",
    "      df = df.append(x,ignore_index=True)\n",
    "  return df"
   ],
   "outputs": [],
   "metadata": {}
  },
  {
   "cell_type": "code",
   "execution_count": null,
   "source": [
    "def CryptoEfficiency3(df,rollingWindow_size,excelName):\n",
    "  writer = pd.ExcelWriter(excelName,engine='xlsxwriter')\n",
    "  for i in range (0,len(df.sheet_names)):\n",
    "    df_sheet = df.parse(i)\n",
    "    all_returns = df_sheet['Returns']\n",
    "    dff = RollingWindows2(all_returns,rollingWindow_size)\n",
    "    dff = dff.rename(columns = {0:'Ljung-Box',1:'RunsTest', 2:'VarianceRatio', 3: 'BDSTest', 4:'HurstExponent', 5:'BartelsTest'})\n",
    "    dff.to_excel(writer,sheet_name=str(df.sheet_names[i]), index= False)\n",
    "    print(df.sheet_names[i],' processed ', i+1,'/',len(df.sheet_names))\n",
    "  writer.save()\n",
    "  print('Saved as: ',excelName)"
   ],
   "outputs": [],
   "metadata": {}
  },
  {
   "cell_type": "code",
   "execution_count": 16,
   "source": [
    "all_data= pd.ExcelFile('/Users/Catalina/Desktop/crypto_jumps/DateCryptoD.xlsx')\n",
    "no_jumps= pd.ExcelFile('/Users/Catalina/Desktop/crypto_jumps/nojumps.xlsx')"
   ],
   "outputs": [],
   "metadata": {}
  },
  {
   "cell_type": "code",
   "execution_count": null,
   "source": [
    "CryptoEfficiency2(all_data, 250, 'Data_All_pval')"
   ],
   "outputs": [],
   "metadata": {}
  },
  {
   "cell_type": "code",
   "execution_count": 20,
   "source": [
    "CryptoEfficiency3(no_jumps, 250, 'nojumps_pval')"
   ],
   "outputs": [
    {
     "output_type": "stream",
     "name": "stdout",
     "text": [
      "no_jumps_bitfinex  processed  1 / 2\n",
      "no_jumps_coinbase  processed  2 / 2\n",
      "Saved as:  nojumps_pval\n"
     ]
    }
   ],
   "metadata": {}
  },
  {
   "cell_type": "markdown",
   "source": [
    "## Percentiles"
   ],
   "metadata": {}
  },
  {
   "cell_type": "code",
   "execution_count": 143,
   "source": [
    "def Percentile2(df, q, excelName):\n",
    "    writer = pd.ExcelWriter(excelName,engine='xlsxwriter')\n",
    "    for i in range (0,len(df.sheet_names)):\n",
    "      df_sheet = df.parse(i)\n",
    "      percentile = df_sheet.quantile(q, axis=0, numeric_only=True, interpolation='linear')\n",
    "      percentile.insert(0,'Percentiles',q)\n",
    "      percentile.to_excel(writer,sheet_name=str(df.sheet_names[i]), index= False)\n",
    "      print(df.sheet_names[i],' processed ', i+1,'/',len(df.sheet_names))\n",
    "    writer.save()\n",
    "    print('Saved as: ',excelName)"
   ],
   "outputs": [],
   "metadata": {}
  },
  {
   "cell_type": "code",
   "execution_count": 136,
   "source": [
    "pval_all= pd.ExcelFile('/Users/Catalina/Desktop/crypto_jumps/Data_All_pval.xlsx')\n",
    "pval_nojumps= pd.ExcelFile('/Users/Catalina/Desktop/crypto_jumps/nojumps_pval.xlsx')"
   ],
   "outputs": [],
   "metadata": {}
  },
  {
   "cell_type": "code",
   "execution_count": null,
   "source": [
    "Percentile2(pval_all, [0.01, 0.05, 0.1, 0.2, 0.3, 0.4, 0.5, 0.6, 0.7, 0.8, 0.9, 1], 'percentile_all')"
   ],
   "outputs": [],
   "metadata": {}
  },
  {
   "cell_type": "code",
   "execution_count": 142,
   "source": [
    "Percentile2(pval_nojumps, [0.01, 0.05, 0.1, 0.2, 0.3, 0.4, 0.5, 0.6, 0.7, 0.8, 0.9, 1], 'percentile_no_jumps')"
   ],
   "outputs": [
    {
     "output_type": "stream",
     "name": "stdout",
     "text": [
      "no_jumps_bitfinex  processed  1 / 2\n",
      "no_jumps_coinbase  processed  2 / 2\n",
      "Saved as:  percentile_no_jumps\n"
     ]
    }
   ],
   "metadata": {}
  },
  {
   "cell_type": "markdown",
   "source": [
    "## Distribution Comparison\n"
   ],
   "metadata": {}
  },
  {
   "cell_type": "code",
   "execution_count": 2,
   "source": [
    "percentiles= pd.ExcelFile('/Users/Catalina/Desktop/crypto_jumps/quantile_compa.xlsx')     "
   ],
   "outputs": [],
   "metadata": {}
  },
  {
   "cell_type": "code",
   "execution_count": 11,
   "source": [
    "percentiles.head()"
   ],
   "outputs": [
    {
     "output_type": "execute_result",
     "data": {
      "text/html": [
       "<div>\n",
       "<style scoped>\n",
       "    .dataframe tbody tr th:only-of-type {\n",
       "        vertical-align: middle;\n",
       "    }\n",
       "\n",
       "    .dataframe tbody tr th {\n",
       "        vertical-align: top;\n",
       "    }\n",
       "\n",
       "    .dataframe thead th {\n",
       "        text-align: right;\n",
       "    }\n",
       "</style>\n",
       "<table border=\"1\" class=\"dataframe\">\n",
       "  <thead>\n",
       "    <tr style=\"text-align: right;\">\n",
       "      <th></th>\n",
       "      <th>All Data</th>\n",
       "      <th>W/out Jumps</th>\n",
       "    </tr>\n",
       "  </thead>\n",
       "  <tbody>\n",
       "    <tr>\n",
       "      <th>0</th>\n",
       "      <td>0.000434</td>\n",
       "      <td>0.000036</td>\n",
       "    </tr>\n",
       "    <tr>\n",
       "      <th>1</th>\n",
       "      <td>0.000676</td>\n",
       "      <td>0.000142</td>\n",
       "    </tr>\n",
       "    <tr>\n",
       "      <th>2</th>\n",
       "      <td>0.004388</td>\n",
       "      <td>0.000345</td>\n",
       "    </tr>\n",
       "    <tr>\n",
       "      <th>3</th>\n",
       "      <td>0.012633</td>\n",
       "      <td>0.004173</td>\n",
       "    </tr>\n",
       "    <tr>\n",
       "      <th>4</th>\n",
       "      <td>0.029045</td>\n",
       "      <td>0.015717</td>\n",
       "    </tr>\n",
       "  </tbody>\n",
       "</table>\n",
       "</div>"
      ],
      "text/plain": [
       "   All Data  W/out Jumps\n",
       "0  0.000434     0.000036\n",
       "1  0.000676     0.000142\n",
       "2  0.004388     0.000345\n",
       "3  0.012633     0.004173\n",
       "4  0.029045     0.015717"
      ]
     },
     "metadata": {},
     "execution_count": 11
    }
   ],
   "metadata": {}
  },
  {
   "cell_type": "markdown",
   "source": [
    "### Kolmogorov-Smirnov"
   ],
   "metadata": {}
  },
  {
   "cell_type": "code",
   "execution_count": 43,
   "source": [
    "def KSComparasion(df,alt):\n",
    "    for i in df.sheet_names:\n",
    "      arr = [0,0,0]\n",
    "      df_sheet = df.parse(i)\n",
    "      ks = stats.ks_2samp(df_sheet['All Data'], df_sheet['W/out Jumps'], alternative= alt, mode='auto')\n",
    "      arr[0] = i\n",
    "      arr[1] = round(ks.statistic,2)\n",
    "      arr[2] = ks.pvalue\n",
    "      print(arr)\n",
    "    "
   ],
   "outputs": [],
   "metadata": {}
  },
  {
   "cell_type": "markdown",
   "source": [
    "two sided H0: F(x)= G(x)\\\n",
    "less H0: F(x) >= G(x)\\\n",
    "greater H0:  F(x) <= G(x)"
   ],
   "metadata": {}
  },
  {
   "cell_type": "code",
   "execution_count": 48,
   "source": [
    "KSComparasion(percentiles, 'two-sided')"
   ],
   "outputs": [
    {
     "output_type": "stream",
     "name": "stdout",
     "text": [
      "['LjungBox_BTC_Bitfinex', 0.25, 0.8689816711757754]\n",
      "['LjungBox_BTC_Coinbase', 0.25, 0.8689816711757754]\n",
      "['Runs_BTC_Bitfinex', 0.08, 1.0]\n",
      "['Runs_BTC_Coinbase', 0.08, 1.0]\n",
      "['VarianceRatio_BTC_Bitfinex', 0.17, 0.9984852944874484]\n",
      "['VarianceRatio_BTC_Coinbase', 0.17, 0.9984852944874484]\n",
      "['BDS_BTC_Bitfinex', 0.17, 0.9984852944874484]\n",
      "['BDS_BTC_Coinbase', 0.17, 0.9984852944874484]\n",
      "['Hurst_BTC_Bitfinex', 0.33, 0.5360977695073805]\n",
      "['Hurst_BTC_Coinbase', 0.25, 0.8689816711757754]\n",
      "['Bartels_BTC_Bitfinex', 0.08, 1.0]\n",
      "['Bartels_BTC_Coinbase', 0.08, 1.0]\n"
     ]
    }
   ],
   "metadata": {}
  },
  {
   "cell_type": "markdown",
   "source": [
    "###  Cramer-von-Mises\n",
    "\n",
    "two-sided H0: same distribution"
   ],
   "metadata": {}
  },
  {
   "cell_type": "code",
   "execution_count": 3,
   "source": [
    "def CMComparasion(df):\n",
    "    for i in df.sheet_names:\n",
    "      arr = [0,0,0]\n",
    "      df_sheet = df.parse(i)\n",
    "      cm = stats.cramervonmises_2samp(df_sheet['All Data'], df_sheet['W/out Jumps'])\n",
    "      arr[0] = i\n",
    "      arr[1] = round(cm.statistic,2)\n",
    "      arr[2] = cm.pvalue\n",
    "      print(arr)"
   ],
   "outputs": [],
   "metadata": {}
  },
  {
   "cell_type": "code",
   "execution_count": 4,
   "source": [
    "CMComparasion(percentiles)"
   ],
   "outputs": [
    {
     "output_type": "stream",
     "name": "stdout",
     "text": [
      "['LjungBox_BTC_Bitfinex', 0.09, 0.6838759125006051]\n",
      "['LjungBox_BTC_Coinbase', 0.06, 0.8581100527218358]\n",
      "['Runs_BTC_Bitfinex', 0.02, 0.9999999999791294]\n",
      "['Runs_BTC_Coinbase', 0.01, 1.0]\n",
      "['VarianceRatio_BTC_Bitfinex', 0.03, 0.9905271476587646]\n",
      "['VarianceRatio_BTC_Coinbase', 0.03, 0.9988042870979117]\n",
      "['BDS_BTC_Bitfinex', 0.03, 0.9905271476587646]\n",
      "['BDS_BTC_Coinbase', 0.03, 0.9905271476587646]\n",
      "['Hurst_BTC_Bitfinex', 0.26, 0.18589323337606456]\n",
      "['Hurst_BTC_Coinbase', 0.19, 0.2920032106215408]\n",
      "['Bartels_BTC_Bitfinex', 0.02, 0.999991368054848]\n",
      "['Bartels_BTC_Coinbase', 0.02, 0.999991368054848]\n"
     ]
    }
   ],
   "metadata": {}
  }
 ],
 "metadata": {
  "orig_nbformat": 4,
  "language_info": {
   "name": "python",
   "version": "3.9.2",
   "mimetype": "text/x-python",
   "codemirror_mode": {
    "name": "ipython",
    "version": 3
   },
   "pygments_lexer": "ipython3",
   "nbconvert_exporter": "python",
   "file_extension": ".py"
  },
  "kernelspec": {
   "name": "python3",
   "display_name": "Python 3.9.2 64-bit"
  },
  "interpreter": {
   "hash": "aee8b7b246df8f9039afb4144a1f6fd8d2ca17a180786b69acc140d282b71a49"
  }
 },
 "nbformat": 4,
 "nbformat_minor": 2
}